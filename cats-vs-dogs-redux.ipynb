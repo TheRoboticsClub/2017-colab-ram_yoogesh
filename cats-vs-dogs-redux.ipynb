{
 "cells": [
  {
   "cell_type": "code",
   "execution_count": 1,
   "metadata": {
    "ExecuteTime": {
     "end_time": "2018-01-29T05:21:26.375566Z",
     "start_time": "2018-01-29T05:21:17.402961Z"
    }
   },
   "outputs": [
    {
     "name": "stderr",
     "output_type": "stream",
     "text": [
      "Using TensorFlow backend.\n"
     ]
    }
   ],
   "source": [
    "#import all the header files\n",
    "from keras.preprocessing.image import ImageDataGenerator\n",
    "from keras.models import Sequential\n",
    "from keras.layers import Conv2D, MaxPooling2D\n",
    "from keras.layers import Activation, Dropout, Flatten, Dense\n",
    "from keras import backend as K"
   ]
  },
  {
   "cell_type": "code",
   "execution_count": 2,
   "metadata": {
    "ExecuteTime": {
     "end_time": "2018-01-29T05:21:26.380028Z",
     "start_time": "2018-01-29T05:21:26.377036Z"
    },
    "collapsed": true
   },
   "outputs": [],
   "source": [
    "#defining width, height and the respective directories \n",
    "img_width, img_height = 150,150\n",
    "train_data_direc = '/home/surya/yogesh/data/train'\n",
    "validation_data_direc = '/home/surya/yogesh/data/validation'\n",
    "no_of_train_images = 24000\n",
    "no_of_validation_images = 1000\n",
    "epochs = 10\n",
    "batch_size = 256\n"
   ]
  },
  {
   "cell_type": "code",
   "execution_count": 3,
   "metadata": {
    "ExecuteTime": {
     "end_time": "2018-01-29T05:21:26.392623Z",
     "start_time": "2018-01-29T05:21:26.381022Z"
    }
   },
   "outputs": [
    {
     "data": {
      "text/plain": [
       "'channels_last'"
      ]
     },
     "execution_count": 3,
     "metadata": {},
     "output_type": "execute_result"
    }
   ],
   "source": [
    "K.image_data_format()"
   ]
  },
  {
   "cell_type": "code",
   "execution_count": 4,
   "metadata": {
    "ExecuteTime": {
     "end_time": "2018-01-29T05:21:26.400361Z",
     "start_time": "2018-01-29T05:21:26.393653Z"
    },
    "collapsed": true
   },
   "outputs": [],
   "source": [
    "#check the compatability such as theano or tensorflow from -/keras.json file \n",
    "if K.image_data_format() == 'channels_first':\n",
    "    input_shape = (3, img_width, img_height)\n",
    "else:\n",
    "    input_shape = (img_width, img_height, 3)"
   ]
  },
  {
   "cell_type": "code",
   "execution_count": 5,
   "metadata": {
    "ExecuteTime": {
     "end_time": "2018-01-29T05:21:26.405005Z",
     "start_time": "2018-01-29T05:21:26.401629Z"
    },
    "collapsed": true
   },
   "outputs": [],
   "source": [
    "#define an model using this statement \n",
    "mymodel = Sequential()"
   ]
  },
  {
   "cell_type": "code",
   "execution_count": 6,
   "metadata": {
    "ExecuteTime": {
     "end_time": "2018-01-29T05:21:26.455352Z",
     "start_time": "2018-01-29T05:21:26.406210Z"
    },
    "collapsed": true
   },
   "outputs": [],
   "source": [
    "#use model_name.add to add corresponding number of layers as required \n",
    "mymodel.add(Conv2D(32,(3,3), input_shape=input_shape))\n",
    "mymodel.add(Activation('relu'))\n",
    "mymodel.add(MaxPooling2D(pool_size=(2, 2)))\n",
    "\n",
    "mymodel.add(Conv2D(32,(3,3)))\n",
    "mymodel.add(Activation('relu'))\n",
    "mymodel.add(MaxPooling2D(pool_size=(2, 2)))\n",
    "\n",
    "mymodel.add(Conv2D(64,(3,3)))\n",
    "mymodel.add(Activation('relu'))\n",
    "mymodel.add(MaxPooling2D(pool_size=(2, 2)))\n",
    "\n",
    "mymodel.add(Flatten())\n",
    "mymodel.add(Dense(64))\n",
    "mymodel.add(Activation('relu'))\n",
    "mymodel.add(Dropout(0.5))\n",
    "mymodel.add(Dense(1))\n",
    "mymodel.add(Activation('sigmoid'))"
   ]
  },
  {
   "cell_type": "code",
   "execution_count": 7,
   "metadata": {
    "ExecuteTime": {
     "end_time": "2018-01-29T05:21:26.476456Z",
     "start_time": "2018-01-29T05:21:26.456651Z"
    },
    "collapsed": true
   },
   "outputs": [],
   "source": [
    "#this statement is used to compile the above mentioned model \n",
    "mymodel.compile(loss='binary_crossentropy', optimizer='adam', metrics=['accuracy'])"
   ]
  },
  {
   "cell_type": "code",
   "execution_count": 8,
   "metadata": {
    "ExecuteTime": {
     "end_time": "2018-01-29T05:21:26.480466Z",
     "start_time": "2018-01-29T05:21:26.477753Z"
    },
    "collapsed": true
   },
   "outputs": [],
   "source": [
    "#you will use this augmentation technique on the train dataset \n",
    "train_single_image = ImageDataGenerator(\n",
    "                                            rescale=1. /255,\n",
    "                                            shear_range = 0.2,\n",
    "                                            zoom_range= 0.2,\n",
    "                                            horizontal_flip=True )\n"
   ]
  },
  {
   "cell_type": "code",
   "execution_count": 9,
   "metadata": {
    "ExecuteTime": {
     "end_time": "2018-01-29T05:21:26.487831Z",
     "start_time": "2018-01-29T05:21:26.481542Z"
    },
    "collapsed": true
   },
   "outputs": [],
   "source": [
    "#implement only the recaling on the validataion data\n",
    "test_single_image = ImageDataGenerator(rescale= 1. / 255)"
   ]
  },
  {
   "cell_type": "code",
   "execution_count": 10,
   "metadata": {
    "ExecuteTime": {
     "end_time": "2018-01-29T05:21:26.493862Z",
     "start_time": "2018-01-29T05:21:26.489338Z"
    }
   },
   "outputs": [
    {
     "data": {
      "text/plain": [
       "'/home/surya/yogesh'"
      ]
     },
     "execution_count": 10,
     "metadata": {},
     "output_type": "execute_result"
    }
   ],
   "source": [
    "%pwd"
   ]
  },
  {
   "cell_type": "code",
   "execution_count": 11,
   "metadata": {
    "ExecuteTime": {
     "end_time": "2018-01-29T05:21:27.441272Z",
     "start_time": "2018-01-29T05:21:26.495428Z"
    }
   },
   "outputs": [
    {
     "name": "stdout",
     "output_type": "stream",
     "text": [
      "Found 23000 images belonging to 2 classes.\n"
     ]
    }
   ],
   "source": [
    "#no wdo the operation for all the images in the train and the test data \n",
    "trainimages_generator= train_single_image.flow_from_directory(\n",
    "                                                                train_data_direc,\n",
    "                                                                target_size=(img_width,img_height),\n",
    "                                                                batch_size= batch_size,\n",
    "                                                                class_mode='binary'    \n",
    "                                                                )"
   ]
  },
  {
   "cell_type": "code",
   "execution_count": 12,
   "metadata": {
    "ExecuteTime": {
     "end_time": "2018-01-29T05:21:27.559867Z",
     "start_time": "2018-01-29T05:21:27.443490Z"
    }
   },
   "outputs": [
    {
     "name": "stdout",
     "output_type": "stream",
     "text": [
      "Found 2000 images belonging to 2 classes.\n"
     ]
    }
   ],
   "source": [
    "#do the same for the validation data \n",
    "validationimages_generator= test_single_image.flow_from_directory(\n",
    "                                                                    validation_data_direc,\n",
    "                                                                    target_size=(img_width, img_height),\n",
    "                                                                    batch_size=batch_size,\n",
    "                                                                    class_mode='binary',\n",
    "                                                                    )\n"
   ]
  },
  {
   "cell_type": "code",
   "execution_count": 13,
   "metadata": {
    "ExecuteTime": {
     "end_time": "2018-01-29T05:36:06.647361Z",
     "start_time": "2018-01-29T05:21:28.657074Z"
    }
   },
   "outputs": [
    {
     "name": "stdout",
     "output_type": "stream",
     "text": [
      "Epoch 1/10\n",
      "93/93 [==============================] - 89s - loss: 0.6797 - acc: 0.5643 - val_loss: 0.6293 - val_acc: 0.6523\n",
      "Epoch 2/10\n",
      "93/93 [==============================] - 87s - loss: 0.5864 - acc: 0.6880 - val_loss: 0.5148 - val_acc: 0.7435\n",
      "Epoch 3/10\n",
      "93/93 [==============================] - 88s - loss: 0.5344 - acc: 0.7365 - val_loss: 0.4876 - val_acc: 0.7695\n",
      "Epoch 4/10\n",
      "93/93 [==============================] - 87s - loss: 0.4974 - acc: 0.7584 - val_loss: 0.4382 - val_acc: 0.7865\n",
      "Epoch 5/10\n",
      "93/93 [==============================] - 87s - loss: 0.4651 - acc: 0.7849 - val_loss: 0.4376 - val_acc: 0.7904\n",
      "Epoch 6/10\n",
      "93/93 [==============================] - 87s - loss: 0.4345 - acc: 0.8027 - val_loss: 0.3601 - val_acc: 0.8490\n",
      "Epoch 7/10\n",
      "93/93 [==============================] - 87s - loss: 0.4299 - acc: 0.8080 - val_loss: 0.4079 - val_acc: 0.8099\n",
      "Epoch 8/10\n",
      "93/93 [==============================] - 87s - loss: 0.4031 - acc: 0.8208 - val_loss: 0.3892 - val_acc: 0.8216\n",
      "Epoch 9/10\n",
      "93/93 [==============================] - 87s - loss: 0.3938 - acc: 0.8270 - val_loss: 0.3584 - val_acc: 0.8516\n",
      "Epoch 10/10\n",
      "93/93 [==============================] - 86s - loss: 0.3742 - acc: 0.8379 - val_loss: 0.3342 - val_acc: 0.8438\n"
     ]
    }
   ],
   "source": [
    "history = mymodel.fit_generator(\n",
    "                                    trainimages_generator,\n",
    "                                    steps_per_epoch=no_of_train_images // batch_size,\n",
    "                                    epochs= epochs,\n",
    "                                    validation_data=validationimages_generator,\n",
    "                                    validation_steps= no_of_validation_images // batch_size)"
   ]
  },
  {
   "cell_type": "code",
   "execution_count": 14,
   "metadata": {
    "ExecuteTime": {
     "end_time": "2018-01-29T05:36:11.092293Z",
     "start_time": "2018-01-29T05:36:11.086687Z"
    }
   },
   "outputs": [
    {
     "name": "stdout",
     "output_type": "stream",
     "text": [
      "dict_keys(['val_loss', 'val_acc', 'loss', 'acc'])\n"
     ]
    }
   ],
   "source": [
    "# list all data in history\n",
    "print(history.history.keys())"
   ]
  },
  {
   "cell_type": "code",
   "execution_count": 16,
   "metadata": {
    "ExecuteTime": {
     "end_time": "2018-01-29T05:36:44.044237Z",
     "start_time": "2018-01-29T05:36:43.812646Z"
    }
   },
   "outputs": [
    {
     "data": {
      "image/png": "[encoded data removed]",
      "text/plain": [
       "<matplotlib.figure.Figure at 0x7ff7306af828>"
      ]
     },
     "metadata": {},
     "output_type": "display_data"
    },
    {
     "data": {
      "image/png": "[encoded data removed]",
      "text/plain": [
       "<matplotlib.figure.Figure at 0x7ff7186af0f0>"
      ]
     },
     "metadata": {},
     "output_type": "display_data"
    }
   ],
   "source": [
    "# summarize history for accuracy\n",
    "plt.plot(history.history['acc'])\n",
    "plt.plot(history.history['val_acc'])\n",
    "plt.title('model accuracy')\n",
    "plt.ylabel('accuracy')\n",
    "plt.xlabel('epoch')\n",
    "plt.legend(['train', 'test'], loc='upper left')\n",
    "plt.show()\n",
    "# summarize history for loss\n",
    "plt.plot(history.history['loss'])\n",
    "plt.plot(history.history['val_loss'])\n",
    "plt.title('model loss')\n",
    "plt.ylabel('loss')\n",
    "plt.xlabel('epoch')\n",
    "plt.legend(['train', 'test'], loc='upper left')\n",
    "plt.show()"
   ]
  },
  {
   "cell_type": "code",
   "execution_count": null,
   "metadata": {
    "collapsed": true
   },
   "outputs": [],
   "source": []
  }
 ],
 "metadata": {
  "kernelspec": {
   "display_name": "Python 3",
   "language": "python",
   "name": "python3"
  },
  "language_info": {
   "codemirror_mode": {
    "name": "ipython",
    "version": 3
   },
   "file_extension": ".py",
   "mimetype": "text/x-python",
   "name": "python",
   "nbconvert_exporter": "python",
   "pygments_lexer": "ipython3",
   "version": "3.6.1"
  },
  "toc": {
   "nav_menu": {},
   "number_sections": true,
   "sideBar": true,
   "skip_h1_title": false,
   "toc_cell": false,
   "toc_position": {},
   "toc_section_display": "block",
   "toc_window_display": false
  }
 },
 "nbformat": 4,
 "nbformat_minor": 2
}
